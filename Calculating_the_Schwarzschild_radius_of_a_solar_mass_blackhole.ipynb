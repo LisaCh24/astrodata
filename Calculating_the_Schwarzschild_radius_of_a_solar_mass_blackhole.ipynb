{
  "nbformat": 4,
  "nbformat_minor": 0,
  "metadata": {
    "colab": {
      "provenance": [],
      "authorship_tag": "ABX9TyM41t7i0VrdbAlNlMQSOGMA",
      "include_colab_link": true
    },
    "kernelspec": {
      "name": "python3",
      "display_name": "Python 3"
    },
    "language_info": {
      "name": "python"
    }
  },
  "cells": [
    {
      "cell_type": "markdown",
      "metadata": {
        "id": "view-in-github",
        "colab_type": "text"
      },
      "source": [
        "<a href=\"https://colab.research.google.com/github/LisaCh24/astrodata/blob/main/Calculating_the_Schwarzschild_radius_of_a_solar_mass_blackhole.ipynb\" target=\"_parent\"><img src=\"https://colab.research.google.com/assets/colab-badge.svg\" alt=\"Open In Colab\"/></a>"
      ]
    },
    {
      "cell_type": "code",
      "execution_count": 1,
      "metadata": {
        "id": "pr3rtxeo54od"
      },
      "outputs": [],
      "source": [
        "import astropy.constants as const # import a Python package to call the value of certain constants\n",
        "import astropy.units as u # import a Python package to call certain units, e.g., the mass of the Sun"
      ]
    },
    {
      "cell_type": "code",
      "source": [
        "M = 4297000 * u.solMass # Define M as a physical quantity with a value and a unit\n",
        "print(M.to (u.kg)) # print out M in unit of kilogram"
      ],
      "metadata": {
        "colab": {
          "base_uri": "https://localhost:8080/"
        },
        "id": "PG15rxY96Bxw",
        "outputId": "90629a47-1275-40b9-8b8d-de35c4b7cebe"
      },
      "execution_count": 2,
      "outputs": [
        {
          "output_type": "stream",
          "name": "stdout",
          "text": [
            "8.544197214389525e+36 kg\n"
          ]
        }
      ]
    },
    {
      "cell_type": "code",
      "source": [
        "R = 12000000 * u.au # Define unit as the radius of blackhole in astronomical unit\n",
        "print (R.to(u.km)) # print out the radius of the blackhole"
      ],
      "metadata": {
        "colab": {
          "base_uri": "https://localhost:8080/"
        },
        "id": "DbRQ3KVZ6ehV",
        "outputId": "a941c5eb-59da-45af-e7ed-59ba9e2be475"
      },
      "execution_count": 11,
      "outputs": [
        {
          "output_type": "stream",
          "name": "stdout",
          "text": [
            "1795174448399999.8 km\n"
          ]
        }
      ]
    },
    {
      "cell_type": "code",
      "source": [
        "G = const.G # Define G as the gravitational constant\n",
        "print(G.si) # print out G in S.I units"
      ],
      "metadata": {
        "colab": {
          "base_uri": "https://localhost:8080/"
        },
        "id": "9DLpk6kC6tDC",
        "outputId": "3e53a740-0ca6-4f57-9fbc-f5dc4db3d65b"
      },
      "execution_count": 8,
      "outputs": [
        {
          "output_type": "stream",
          "name": "stdout",
          "text": [
            "  Name   = Gravitational constant\n",
            "  Value  = 6.6743e-11\n",
            "  Uncertainty  = 1.5e-15\n",
            "  Unit  = m3 / (kg s2)\n",
            "  Reference = CODATA 2018\n"
          ]
        }
      ]
    },
    {
      "cell_type": "code",
      "source": [
        "import numpy as np # import numpy package which allows us to conduct mathematical operation"
      ],
      "metadata": {
        "id": "MJxcNYm36wbr"
      },
      "execution_count": 5,
      "outputs": []
    },
    {
      "cell_type": "code",
      "source": [
        "V = np.sqrt(G * M / R) # Calculating orbital velocity based on the equation at the beginning\n",
        "print(V.to(u.km / u.s)) # Print out orbital velocity of the radius of black hole"
      ],
      "metadata": {
        "colab": {
          "base_uri": "https://localhost:8080/"
        },
        "id": "LbLBq-gP638v",
        "outputId": "e9ae6322-b153-49be-ad30-eed381722c82"
      },
      "execution_count": 9,
      "outputs": [
        {
          "output_type": "stream",
          "name": "stdout",
          "text": [
            "17.82317883676987 km / s\n"
          ]
        }
      ]
    }
  ]
}