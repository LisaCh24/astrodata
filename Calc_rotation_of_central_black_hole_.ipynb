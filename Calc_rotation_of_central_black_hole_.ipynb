{
  "nbformat": 4,
  "nbformat_minor": 0,
  "metadata": {
    "colab": {
      "provenance": [],
      "authorship_tag": "ABX9TyNJ/uJDshWEHrF5eqN52VRB",
      "include_colab_link": true
    },
    "kernelspec": {
      "name": "python3",
      "display_name": "Python 3"
    },
    "language_info": {
      "name": "python"
    }
  },
  "cells": [
    {
      "cell_type": "markdown",
      "metadata": {
        "id": "view-in-github",
        "colab_type": "text"
      },
      "source": [
        "<a href=\"https://colab.research.google.com/github/LisaCh24/astrodata/blob/main/Calc_rotation_of_central_black_hole_.ipynb\" target=\"_parent\"><img src=\"https://colab.research.google.com/assets/colab-badge.svg\" alt=\"Open In Colab\"/></a>"
      ]
    },
    {
      "cell_type": "code",
      "execution_count": null,
      "metadata": {
        "id": "hEzlDGYIbDT1"
      },
      "outputs": [],
      "source": [
        "import astropy.units as u # import a Python package to call certain units.\n",
        "import astropy.constants as ac # import a Python package to call the value of certain constants.\n",
        "import numpy as np # import numpy package, which allows us to conduct mathematical operations for the defined quantities."
      ]
    },
    {
      "cell_type": "markdown",
      "source": [
        "How to define a function?"
      ],
      "metadata": {
        "id": "kJ79yLFCblZo"
      }
    },
    {
      "cell_type": "code",
      "source": [
        "def calculatingOrbitalVelocity(M,R):\n",
        "  \"\"\"\n",
        "  This is a function that calc the orv. vel.\n",
        "  Input:\n",
        "  M, the mass of the central object\n",
        "  R, the orbital radius of the satellite\n",
        "  \"\"\"\n",
        "  orbitalVelocity = np.sqrt(ac.G * M / R)\n",
        "  return orbitalVelocity\n"
      ],
      "metadata": {
        "id": "Pp3JixTkbcDU"
      },
      "execution_count": null,
      "outputs": []
    },
    {
      "cell_type": "code",
      "source": [
        "# We define input M and R\n",
        "M = 1 * u.earthMass\n",
        "R = 1 * u.earthRad\n",
        "\n",
        "#Calc orb. v. of an earth satellite\n",
        "# using the predefined function\n",
        "v_earthSatellite = calculatingOrbitalVelocity (M,R)\n",
        "print (v_earthSatellite.to(u.km/u.s))\n"
      ],
      "metadata": {
        "colab": {
          "base_uri": "https://localhost:8080/"
        },
        "id": "Xu2r3tzfcVHH",
        "outputId": "18f0ccbe-469d-4fa8-a778-ff9eb95463f6"
      },
      "execution_count": null,
      "outputs": [
        {
          "output_type": "stream",
          "name": "stdout",
          "text": [
            "7.905388234385281 km / s\n"
          ]
        }
      ]
    },
    {
      "cell_type": "markdown",
      "source": [
        "Introduce concept of an array"
      ],
      "metadata": {
        "id": "hFyM6hjgfIV_"
      }
    },
    {
      "cell_type": "code",
      "source": [
        "# Orb. radius of the eight solar system planets from inside out\n",
        "# mercury, venus, earth, mars, jupiter, saturn, uranus, neptune\n",
        "R_planet_arr = ([0.4, 0.7, 1.0, 1.5, 5.2, 9.6, 19.2, 30.1]) * u.au"
      ],
      "metadata": {
        "id": "e24_GKf5e7a_"
      },
      "execution_count": null,
      "outputs": []
    },
    {
      "cell_type": "code",
      "source": [
        "# We define mass of the sun\n",
        "M_sun = 1 * u.solMass\n",
        "v_planet_arr = calculatingOrbitalVelocity(M_sun, R_planet_arr) #Calculate orbital velocity of each planet around the sun\n",
        "print (v_planet_arr.to(u.km/u.s)) #Print velocities with km/s unit"
      ],
      "metadata": {
        "colab": {
          "base_uri": "https://localhost:8080/"
        },
        "id": "VvroAz8bgST8",
        "outputId": "8659abf3-ef73-4b62-92ff-dba683efaa27"
      },
      "execution_count": null,
      "outputs": [
        {
          "output_type": "stream",
          "name": "stdout",
          "text": [
            "[47.09373279 35.5995158  29.78469183 24.31909904 13.06145141  9.61296795\n",
            "  6.79739483  5.42887526] km / s\n"
          ]
        }
      ]
    },
    {
      "cell_type": "code",
      "source": [
        "import matplotlib.pyplot as plt #import package for plot\n",
        "plt.plot(R_planet_arr, v_planet_arr) #add plot\n",
        "plt.xlabel(\"Orbital Radius (AU)\".format(R_planet_arr.unit)) # label the x axis\n",
        "plt.ylabel(\"Orbital Velocity (km/s)\".format(v_earthSatellite.unit)) # label the y axis\n",
        "plt.show()"
      ],
      "metadata": {
        "colab": {
          "base_uri": "https://localhost:8080/",
          "height": 465
        },
        "id": "9fZQWG30hZIu",
        "outputId": "3ffbc081-b8e3-4f6a-abf7-6ac7fe241af3"
      },
      "execution_count": 14,
      "outputs": [
        {
          "output_type": "display_data",
          "data": {
            "text/plain": [
              "<Figure size 640x480 with 1 Axes>"
            ],
            "image/png": "[encoded data removed]"
          },
          "metadata": {}
        }
      ]
    },
    {
      "cell_type": "code",
      "source": [],
      "metadata": {
        "id": "SP1V004Wlkid"
      },
      "execution_count": 25,
      "outputs": []
    }
  ]
}