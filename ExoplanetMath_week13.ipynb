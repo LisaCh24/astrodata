{
  "nbformat": 4,
  "nbformat_minor": 0,
  "metadata": {
    "colab": {
      "provenance": [],
      "authorship_tag": "ABX9TyPdIWURcBy+SolQzPtzemtM",
      "include_colab_link": true
    },
    "kernelspec": {
      "name": "python3",
      "display_name": "Python 3"
    },
    "language_info": {
      "name": "python"
    }
  },
  "cells": [
    {
      "cell_type": "markdown",
      "metadata": {
        "id": "view-in-github",
        "colab_type": "text"
      },
      "source": [
        "<a href=\"https://colab.research.google.com/github/LisaCh24/astrodata/blob/main/ExoplanetMath_week13.ipynb\" target=\"_parent\"><img src=\"https://colab.research.google.com/assets/colab-badge.svg\" alt=\"Open In Colab\"/></a>"
      ]
    },
    {
      "cell_type": "code",
      "execution_count": 13,
      "metadata": {
        "id": "yCKy24dV3ELi"
      },
      "outputs": [],
      "source": [
        "import astropy.units as u #import package for units\n",
        "import astropy.constants as c #import packages for constants needed in math"
      ]
    },
    {
      "cell_type": "code",
      "source": [
        "delta_earth_sun = (u.earthRad / u.solRad)**2 #form. is (planetR/starR)^2"
      ],
      "metadata": {
        "id": "BzVwye3v6Dwg"
      },
      "execution_count": 14,
      "outputs": []
    },
    {
      "cell_type": "code",
      "source": [
        "print(delta_earth_sun.decompose()) #decompose tells code to cancel out the units. This number is the flux drop"
      ],
      "metadata": {
        "colab": {
          "base_uri": "https://localhost:8080/"
        },
        "id": "f1S11wil6Y8i",
        "outputId": "52025228-cd75-4ad9-aa6b-6e7a1c01428c"
      },
      "execution_count": 15,
      "outputs": [
        {
          "output_type": "stream",
          "name": "stdout",
          "text": [
            "8.40502e-05\n"
          ]
        }
      ]
    },
    {
      "cell_type": "code",
      "source": [
        "delta_jupiter_sun = (u.jupiterRad / u.solRad)**2 #same flux formula drop formula but for Jupiter and the sun"
      ],
      "metadata": {
        "id": "CH5xCB2j6i0i"
      },
      "execution_count": 16,
      "outputs": []
    },
    {
      "cell_type": "code",
      "source": [
        "print(delta_jupiter_sun.decompose()) #the flux drop"
      ],
      "metadata": {
        "colab": {
          "base_uri": "https://localhost:8080/"
        },
        "id": "yogHffOK6wTu",
        "outputId": "050137bd-cf9f-43dc-c730-6654e018c5c3"
      },
      "execution_count": 17,
      "outputs": [
        {
          "output_type": "stream",
          "name": "stdout",
          "text": [
            "0.0105602\n"
          ]
        }
      ]
    },
    {
      "cell_type": "code",
      "source": [
        "import numpy as np #import package to do math\n",
        "v_orb_earth = np.sqrt(c.G * u.solMass / u.AU) #velocity of earth's orbit around the sun\n",
        "print(v_orb_earth.to(u.m/u.s)) #show the velocity of earth's orbit with unit m/s"
      ],
      "metadata": {
        "colab": {
          "base_uri": "https://localhost:8080/"
        },
        "id": "khj3bjLe7k5O",
        "outputId": "f8a1f02c-0be2-4b99-8d04-b91a0a231942"
      },
      "execution_count": 18,
      "outputs": [
        {
          "output_type": "stream",
          "name": "stdout",
          "text": [
            "29784.691829676933 m / s\n"
          ]
        }
      ]
    },
    {
      "cell_type": "code",
      "source": [
        "v_sun = u.earthMass / u.solMass * v_orb_earth #use formula to find the velocity of the sun\n",
        "print(v_sun.to(u.m /u.s)) #show the velocity with unit m/s"
      ],
      "metadata": {
        "colab": {
          "base_uri": "https://localhost:8080/"
        },
        "id": "bBKt5OJh9bzX",
        "outputId": "bfa9ad63-46dc-4761-d114-532448fda10f"
      },
      "execution_count": 19,
      "outputs": [
        {
          "output_type": "stream",
          "name": "stdout",
          "text": [
            "0.08945800466923791 m / s\n"
          ]
        }
      ]
    },
    {
      "cell_type": "markdown",
      "source": [
        "v_s = 0.09 m/s"
      ],
      "metadata": {
        "id": "bkniITxqBjiH"
      }
    },
    {
      "cell_type": "code",
      "source": [
        "v_jupiter = 0.09 * u.m / u.s * (u.jupiterMass / u.earthMass) * (11.9 * u.yr / u.yr) **(-1/3) #use the formula to find radial velocity of Jupiter\n",
        "print(v_jupiter.to(u.m / u.s)) #show velocity with units m/s"
      ],
      "metadata": {
        "colab": {
          "base_uri": "https://localhost:8080/"
        },
        "id": "WJUmDxRuBvu1",
        "outputId": "a9207888-a648-4233-a35c-997b9e3bc097"
      },
      "execution_count": 20,
      "outputs": [
        {
          "output_type": "stream",
          "name": "stdout",
          "text": [
            "12.529091077198903 m / s\n"
          ]
        }
      ]
    },
    {
      "cell_type": "code",
      "source": [
        "(u.jupiterMass / u.earthMass).decompose() #ratio of jupiter's mass and earth's mass (decompose to show actual number)"
      ],
      "metadata": {
        "colab": {
          "base_uri": "https://localhost:8080/",
          "height": 37
        },
        "id": "arorH8ksCwJu",
        "outputId": "71d552c5-f2d5-405a-c3cb-07b03e63e8c9"
      },
      "execution_count": 21,
      "outputs": [
        {
          "output_type": "execute_result",
          "data": {
            "text/plain": [
              "Unit(dimensionless with a scale of 317.8284065946748)"
            ],
            "text/latex": "$\\mathrm{317.82841}$"
          },
          "metadata": {},
          "execution_count": 21
        }
      ]
    },
    {
      "cell_type": "code",
      "source": [
        "rho_earth = u.earthMass / (4* np.pi * u.earthRad**3 / 3.0) #Density = mass / volume of earth\n",
        "print (rho_earth.to (u.g / u.cm**3)) #density of the earth"
      ],
      "metadata": {
        "colab": {
          "base_uri": "https://localhost:8080/"
        },
        "id": "GPibNYyuDArz",
        "outputId": "6a93342e-39f4-422d-c5dc-1dfbefd399ed"
      },
      "execution_count": 22,
      "outputs": [
        {
          "output_type": "stream",
          "name": "stdout",
          "text": [
            "5.495021865555213 g / cm3\n"
          ]
        }
      ]
    }
  ]
}