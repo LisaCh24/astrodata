{
  "nbformat": 4,
  "nbformat_minor": 0,
  "metadata": {
    "colab": {
      "provenance": [],
      "authorship_tag": "ABX9TyNn2+2K8fSn3ot5lRkXBLWv",
      "include_colab_link": true
    },
    "kernelspec": {
      "name": "python3",
      "display_name": "Python 3"
    },
    "language_info": {
      "name": "python"
    }
  },
  "cells": [
    {
      "cell_type": "markdown",
      "metadata": {
        "id": "view-in-github",
        "colab_type": "text"
      },
      "source": [
        "<a href=\"https://colab.research.google.com/github/LisaCh24/astrodata/blob/main/calculating_Hubble_Time.ipynb\" target=\"_parent\"><img src=\"https://colab.research.google.com/assets/colab-badge.svg\" alt=\"Open In Colab\"/></a>"
      ]
    },
    {
      "cell_type": "code",
      "execution_count": 68,
      "metadata": {
        "id": "3DojITh8DIpt"
      },
      "outputs": [],
      "source": [
        "import astropy.units as u\n",
        "import astropy.constants as ac\n",
        "import numpy as np"
      ]
    },
    {
      "cell_type": "code",
      "source": [
        "age = 1 / H # Formula for age of the universe\n",
        "print (H) # Print out Hubble constant"
      ],
      "metadata": {
        "id": "tYP2nYk9DcAm",
        "colab": {
          "base_uri": "https://localhost:8080/"
        },
        "outputId": "1e0a3cd4-91d8-473d-81d7-281fda3f1b11"
      },
      "execution_count": 70,
      "outputs": [
        {
          "output_type": "stream",
          "name": "stdout",
          "text": [
            "70.0 km / (Mpc s)\n"
          ]
        }
      ]
    },
    {
      "cell_type": "code",
      "source": [
        "print (age.to(u.yr)) #This is bigger than 13.8 Gry"
      ],
      "metadata": {
        "colab": {
          "base_uri": "https://localhost:8080/"
        },
        "id": "wLZUORzcEnin",
        "outputId": "5ebb2862-4f88-4720-b7fe-de0b3acaa9b7"
      },
      "execution_count": 71,
      "outputs": [
        {
          "output_type": "stream",
          "name": "stdout",
          "text": [
            "13968460309.72556 yr\n"
          ]
        }
      ]
    }
  ]
}