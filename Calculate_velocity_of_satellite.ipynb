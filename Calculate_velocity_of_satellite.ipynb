{
  "nbformat": 4,
  "nbformat_minor": 0,
  "metadata": {
    "colab": {
      "provenance": [],
      "authorship_tag": "ABX9TyOFOoO4yLQtjjymtLJ4p8aJ",
      "include_colab_link": true
    },
    "kernelspec": {
      "name": "python3",
      "display_name": "Python 3"
    },
    "language_info": {
      "name": "python"
    }
  },
  "cells": [
    {
      "cell_type": "markdown",
      "metadata": {
        "id": "view-in-github",
        "colab_type": "text"
      },
      "source": [
        "<a href=\"https://colab.research.google.com/github/LisaCh24/astrodata/blob/main/Calculate_velocity_of_satellite.ipynb\" target=\"_parent\"><img src=\"https://colab.research.google.com/assets/colab-badge.svg\" alt=\"Open In Colab\"/></a>"
      ]
    },
    {
      "cell_type": "code",
      "execution_count": null,
      "metadata": {
        "id": "-A6aDOn-52V_"
      },
      "outputs": [],
      "source": [
        ", this is the equation that we use to calculate orbital velocity"
      ]
    },
    {
      "cell_type": "code",
      "source": [
        "import astropy.constants as const # import a Python package to call the value of certain constants\n",
        "import astropy.units as u # import a Python package to call certain units, e.g., the mass of the Sun"
      ],
      "metadata": {
        "id": "11M6Mx4I5-oJ"
      },
      "execution_count": null,
      "outputs": []
    },
    {
      "cell_type": "code",
      "source": [
        "M = 1 * u.earthMass # Define M as a physical quantity with a value and a unit\n",
        "print(M.to (u.kg)) # print out M in unit of kilogram"
      ],
      "metadata": {
        "colab": {
          "base_uri": "https://localhost:8080/"
        },
        "id": "BHMPEIhI6hlJ",
        "outputId": "9fd56ccc-efe7-4c96-98b9-a7520452bfe5"
      },
      "execution_count": null,
      "outputs": [
        {
          "output_type": "stream",
          "name": "stdout",
          "text": [
            "5.972167867791379e+24 kg\n"
          ]
        }
      ]
    },
    {
      "cell_type": "code",
      "source": [
        "R = 1 * u.earthRad # Define unit as the radius of earth\n",
        "print (R.to(u.km)) # print out the radius of the Earth's orbit"
      ],
      "metadata": {
        "colab": {
          "base_uri": "https://localhost:8080/"
        },
        "id": "1wcPR9ZO7QYP",
        "outputId": "f5a5832b-56c0-4584-9802-dc0504ee84a2"
      },
      "execution_count": null,
      "outputs": [
        {
          "output_type": "stream",
          "name": "stdout",
          "text": [
            "6378.1 km\n"
          ]
        }
      ]
    },
    {
      "cell_type": "code",
      "source": [
        "G = const.G # Define G as the gravitational constant\n",
        "print(G.si) # print out G in S.I units"
      ],
      "metadata": {
        "colab": {
          "base_uri": "https://localhost:8080/"
        },
        "id": "mCbMPUuf8S7t",
        "outputId": "d0c5eb2e-b22e-4e06-a8a7-6605ba3b87df"
      },
      "execution_count": null,
      "outputs": [
        {
          "output_type": "stream",
          "name": "stdout",
          "text": [
            "  Name   = Gravitational constant\n",
            "  Value  = 6.6743e-11\n",
            "  Uncertainty  = 1.5e-15\n",
            "  Unit  = m3 / (kg s2)\n",
            "  Reference = CODATA 2018\n"
          ]
        }
      ]
    },
    {
      "cell_type": "code",
      "source": [
        "import numpy as np # import numpy package which allows us to conduct mathematical operation"
      ],
      "metadata": {
        "id": "lACqvn8V8tRw"
      },
      "execution_count": null,
      "outputs": []
    },
    {
      "cell_type": "code",
      "source": [
        "V = np.sqrt(G * M / R) # Calculating orbital velocity based on the equation at the beginning, \\ symbol allows you to break long lines\n",
        "print(V.to(u.km / u.s)) # Print out orbital velocity of the Earth around the Sun."
      ],
      "metadata": {
        "colab": {
          "base_uri": "https://localhost:8080/"
        },
        "id": "tJftKVbx80FQ",
        "outputId": "dcfaf6c7-dc8c-4673-d9c5-1991d167e797"
      },
      "execution_count": null,
      "outputs": [
        {
          "output_type": "stream",
          "name": "stdout",
          "text": [
            "7.905388234385281 km / s\n"
          ]
        }
      ]
    },
    {
      "cell_type": "code",
      "source": [
        "R_satellite = 2 * u.earthRad # Radius of satellite's orbit around earth\n",
        "print (R_satellite.to(u.km)) # Print radius of sat.'s orbit around earth in km"
      ],
      "metadata": {
        "id": "KdZ2VFbb_u-R",
        "colab": {
          "base_uri": "https://localhost:8080/"
        },
        "outputId": "5b2e46eb-27ab-4fb0-da8d-655d55cf45e5"
      },
      "execution_count": null,
      "outputs": [
        {
          "output_type": "stream",
          "name": "stdout",
          "text": [
            "12756.2 km\n"
          ]
        }
      ]
    },
    {
      "cell_type": "code",
      "source": [
        "V_satellite = np.sqrt(G * M / R_satellite) # Calculating orbital velocity based on the equation at the beginning, \\ symbol allows you to break long lines\n",
        "print(V_satellite.to(u.km / u.s)) # Print out orbital velocity of the satellite around the earth."
      ],
      "metadata": {
        "colab": {
          "base_uri": "https://localhost:8080/"
        },
        "id": "4yVSY0YX_6Ni",
        "outputId": "ed1688b6-b464-499d-f582-d5839fb685ae"
      },
      "execution_count": null,
      "outputs": [
        {
          "output_type": "stream",
          "name": "stdout",
          "text": [
            "5.589953628446181 km / s\n"
          ]
        }
      ]
    },
    {
      "cell_type": "code",
      "source": [],
      "metadata": {
        "id": "69yjiCF6_6UP"
      },
      "execution_count": null,
      "outputs": []
    }
  ]
}